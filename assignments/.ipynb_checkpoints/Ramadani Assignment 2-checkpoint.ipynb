{
 "cells": [
  {
   "cell_type": "code",
   "execution_count": 0,
   "metadata": {
    "colab": {},
    "colab_type": "code",
    "id": "RW-iliikU4Di"
   },
   "outputs": [],
   "source": [
    "import numpy as np\n",
    "import pandas as pd"
   ]
  },
  {
   "cell_type": "code",
   "execution_count": 3,
   "metadata": {
    "colab": {
     "base_uri": "https://localhost:8080/",
     "height": 288
    },
    "colab_type": "code",
    "executionInfo": {
     "elapsed": 21990,
     "status": "ok",
     "timestamp": 1583306993144,
     "user": {
      "displayName": "Joanne Ramadani",
      "photoUrl": "https://lh3.googleusercontent.com/a-/AOh14Gjan1C8Yf9hMbGeCWCCfHwSnQ_Lgc0AlJjEXUAeFA=s64",
      "userId": "06250817169622983021"
     },
     "user_tz": 300
    },
    "id": "ySasI5WCU_-a",
    "outputId": "5ad8bc8a-0e9e-4aed-b957-21478f494377"
   },
   "outputs": [
    {
     "data": {
      "text/html": [
       "<div>\n",
       "<style scoped>\n",
       "    .dataframe tbody tr th:only-of-type {\n",
       "        vertical-align: middle;\n",
       "    }\n",
       "\n",
       "    .dataframe tbody tr th {\n",
       "        vertical-align: top;\n",
       "    }\n",
       "\n",
       "    .dataframe thead th {\n",
       "        text-align: right;\n",
       "    }\n",
       "</style>\n",
       "<table border=\"1\" class=\"dataframe\">\n",
       "  <thead>\n",
       "    <tr style=\"text-align: right;\">\n",
       "      <th></th>\n",
       "      <th>SUMMONS_KEY</th>\n",
       "      <th>SUMMONS_DATE</th>\n",
       "      <th>OFFENSE_DESCRIPTION</th>\n",
       "      <th>LAW_SECTION_NUMBER</th>\n",
       "      <th>LAW_DESCRIPTION</th>\n",
       "      <th>SUMMONS_CATEGORY_TYPE</th>\n",
       "      <th>AGE_GROUP</th>\n",
       "      <th>SEX</th>\n",
       "      <th>RACE</th>\n",
       "      <th>JURISDICTION_CODE</th>\n",
       "      <th>BORO</th>\n",
       "      <th>PRECINCT_OF_OCCUR</th>\n",
       "      <th>X_COORDINATE_CD</th>\n",
       "      <th>Y_COORDINATE_CD</th>\n",
       "      <th>Latitude</th>\n",
       "      <th>Longitude</th>\n",
       "    </tr>\n",
       "  </thead>\n",
       "  <tbody>\n",
       "    <tr>\n",
       "      <th>0</th>\n",
       "      <td>173135642</td>\n",
       "      <td>2017-12-31</td>\n",
       "      <td>RIFLE, SHOTGUN, AMMO SALE OR PURCHASE</td>\n",
       "      <td>10-306</td>\n",
       "      <td>Administrative Code</td>\n",
       "      <td>AMMO</td>\n",
       "      <td>25-44</td>\n",
       "      <td>F</td>\n",
       "      <td>WHITE HISPANIC</td>\n",
       "      <td>2</td>\n",
       "      <td>BRONX</td>\n",
       "      <td>43</td>\n",
       "      <td>1021543.0</td>\n",
       "      <td>239271.0</td>\n",
       "      <td>40.823349</td>\n",
       "      <td>-73.865257</td>\n",
       "    </tr>\n",
       "    <tr>\n",
       "      <th>1</th>\n",
       "      <td>173138632</td>\n",
       "      <td>2017-12-31</td>\n",
       "      <td>MARIJUANA, POSSESSION OF</td>\n",
       "      <td>221.05</td>\n",
       "      <td>Penal Law</td>\n",
       "      <td>MARIJUANA</td>\n",
       "      <td>25-44</td>\n",
       "      <td>F</td>\n",
       "      <td>BLACK</td>\n",
       "      <td>0</td>\n",
       "      <td>BRONX</td>\n",
       "      <td>44</td>\n",
       "      <td>1006350.0</td>\n",
       "      <td>243112.0</td>\n",
       "      <td>40.833942</td>\n",
       "      <td>-73.920138</td>\n",
       "    </tr>\n",
       "    <tr>\n",
       "      <th>2</th>\n",
       "      <td>173193579</td>\n",
       "      <td>2017-12-31</td>\n",
       "      <td>KEY IN IGNITION</td>\n",
       "      <td>10-111</td>\n",
       "      <td>Administrative Code</td>\n",
       "      <td>KEY</td>\n",
       "      <td>25-44</td>\n",
       "      <td>M</td>\n",
       "      <td>WHITE HISPANIC</td>\n",
       "      <td>0</td>\n",
       "      <td>QUEENS</td>\n",
       "      <td>113</td>\n",
       "      <td>1042383.0</td>\n",
       "      <td>189913.0</td>\n",
       "      <td>40.687761</td>\n",
       "      <td>-73.790386</td>\n",
       "    </tr>\n",
       "    <tr>\n",
       "      <th>3</th>\n",
       "      <td>173135647</td>\n",
       "      <td>2017-12-31</td>\n",
       "      <td>DISORDERLY CONDUCT</td>\n",
       "      <td>240.20</td>\n",
       "      <td>Penal Law</td>\n",
       "      <td>DISORDERLY CONDUCT</td>\n",
       "      <td>18-24</td>\n",
       "      <td>M</td>\n",
       "      <td>WHITE HISPANIC</td>\n",
       "      <td>0</td>\n",
       "      <td>QUEENS</td>\n",
       "      <td>114</td>\n",
       "      <td>1006432.0</td>\n",
       "      <td>215383.0</td>\n",
       "      <td>40.757833</td>\n",
       "      <td>-73.919934</td>\n",
       "    </tr>\n",
       "    <tr>\n",
       "      <th>4</th>\n",
       "      <td>173135644</td>\n",
       "      <td>2017-12-31</td>\n",
       "      <td>CONSUMPTION OF ALCOHOL</td>\n",
       "      <td>10-125</td>\n",
       "      <td>Administrative Code</td>\n",
       "      <td>ALCOHOL</td>\n",
       "      <td>25-44</td>\n",
       "      <td>M</td>\n",
       "      <td>WHITE HISPANIC</td>\n",
       "      <td>2</td>\n",
       "      <td>BRONX</td>\n",
       "      <td>40</td>\n",
       "      <td>1007753.0</td>\n",
       "      <td>235353.0</td>\n",
       "      <td>40.812642</td>\n",
       "      <td>-73.915096</td>\n",
       "    </tr>\n",
       "  </tbody>\n",
       "</table>\n",
       "</div>"
      ],
      "text/plain": [
       "  SUMMONS_KEY SUMMONS_DATE  ...   Latitude  Longitude\n",
       "0   173135642   2017-12-31  ...  40.823349 -73.865257\n",
       "1   173138632   2017-12-31  ...  40.833942 -73.920138\n",
       "2   173193579   2017-12-31  ...  40.687761 -73.790386\n",
       "3   173135647   2017-12-31  ...  40.757833 -73.919934\n",
       "4   173135644   2017-12-31  ...  40.812642 -73.915096\n",
       "\n",
       "[5 rows x 16 columns]"
      ]
     },
     "execution_count": 3,
     "metadata": {
      "tags": []
     },
     "output_type": "execute_result"
    }
   ],
   "source": [
    "dtypes = {'SUMMONS_KEY': 'str', 'OFFENSE_DESCRIPTION':'str',\n",
    "       'LAW_SECTION_NUMBER':'str', 'LAW_DESCRIPTION':'str', 'SUMMONS_CATEGORY_TYPE':'str',\n",
    "       'AGE_GROUP':'str', 'SEX': 'str', 'RACE': 'str', 'JURISDICTION_CODE': 'str', 'BORO':'str',\n",
    "       'PRECINCT_OF_OCCUR':'str', 'X_COORDINATE_CD':'float64', 'Y_COORDINATE_CD':'float64', 'Latitude': 'float64',\n",
    "       'Longitude': 'float64'}\n",
    "df = pd.read_csv(\"/content/drive/My Drive/grad school/DATA 73500/Ramadani Assignment 2/NYPD_Criminal_Court_Summons__Historic_.csv\", dtype=dtypes, parse_dates=['SUMMONS_DATE'], infer_datetime_format=True)\n",
    "df.head()"
   ]
  },
  {
   "cell_type": "code",
   "execution_count": 0,
   "metadata": {
    "colab": {},
    "colab_type": "code",
    "id": "rPcLdu_rOeQf"
   },
   "outputs": [],
   "source": [
    "df = df.dropna(subset=['RACE'])\n",
    "df = df.dropna(subset=['SEX'])\n",
    "df = df.dropna(subset=['AGE_GROUP'])\n",
    "df = df.dropna(subset=['BORO'])\n",
    "df = df.dropna(subset=['OFFENSE_DESCRIPTION'])"
   ]
  },
  {
   "cell_type": "code",
   "execution_count": 0,
   "metadata": {
    "colab": {},
    "colab_type": "code",
    "id": "GeEeWeNNKLW9"
   },
   "outputs": [],
   "source": [
    "#ages = ['25-44', '18-24','45-64', '65+', '<18']\n",
    "nonages = ['950', '363', '355', '938', '827', '1016', '822', '826', '823', \n",
    "           '958', '905', '932', '340', '926', '359', '951', '927', '353', '937', \n",
    "           '319', '348', '159', '930', '819', '364', '825', '824', '237', '360', '933',\n",
    "       '322', '917', '941', '1014', '953', '821', '1013', '327', '1015',\n",
    "       '324', '931', '318', '936', '326', '341', '250', '221', '940',\n",
    "       '321', '520', '944', '955', '945', '244', '222', '904', '964',\n",
    "       '518', '240', '361', '946', '349', '517', '820', '929', '954',\n",
    "      '956', '320', '957', '516', '935', '818', '947', '350', '329',\n",
    "       '224', '925', '942', '243', '519', '347', '939', '961', '952',\n",
    "       '372', '934', '155', '336', '515', '351', '315', '967', '160',\n",
    "       '600', '815', '903', '960', '949', '267', '816', '317', '334',\n",
    "       '316', '817', '235', '943', '1000', '920', '228', '325', '959',\n",
    "       '223', '213', '356', '948', '328', '358', '928', '622', '715',\n",
    "       '306', '357', '646', '924', '238', '220', '902', '922', '962',\n",
    "       '157', '417', '338', '1009', '963', '995', '323', '151', '916',\n",
    "       '460', '814', '1010', '921', '716', '923', '354', '1007', '344',\n",
    "       '342', '337', '333', '313', '892', '188', '812', '1008', '366',\n",
    "       '215', '154', '900', '216', '454', '717', '362', '981', '345',\n",
    "       '813', '919', '915', '633', '514', '513', '335', '312', '365',\n",
    "       '330', '352', '971', '451', '219', '346', '314', '459', '913',\n",
    "       '253', '311', '777', '367', '452', '158', '986', '152', '911',\n",
    "       '156', '226', '458', '511', '918', '310', '727', '898', '757',\n",
    "       '899', '512', '415', '332', '811', '305']\n",
    "\n",
    "\n",
    "df = df[~df['AGE_GROUP'].isin(nonages)]"
   ]
  },
  {
   "cell_type": "code",
   "execution_count": 6,
   "metadata": {
    "colab": {
     "base_uri": "https://localhost:8080/",
     "height": 33
    },
    "colab_type": "code",
    "executionInfo": {
     "elapsed": 553,
     "status": "ok",
     "timestamp": 1583307011195,
     "user": {
      "displayName": "Joanne Ramadani",
      "photoUrl": "https://lh3.googleusercontent.com/a-/AOh14Gjan1C8Yf9hMbGeCWCCfHwSnQ_Lgc0AlJjEXUAeFA=s64",
      "userId": "06250817169622983021"
     },
     "user_tz": 300
    },
    "id": "QMg0TGCpRvgg",
    "outputId": "42cfe718-3c59-4071-dc2f-77fc07f85bc3"
   },
   "outputs": [
    {
     "data": {
      "text/plain": [
       "array(['25-44', '18-24', '45-64', '65+', '<18', 'UNKNOWN'], dtype=object)"
      ]
     },
     "execution_count": 6,
     "metadata": {
      "tags": []
     },
     "output_type": "execute_result"
    }
   ],
   "source": [
    "df['AGE_GROUP'].unique()"
   ]
  },
  {
   "cell_type": "code",
   "execution_count": 7,
   "metadata": {
    "colab": {
     "base_uri": "https://localhost:8080/",
     "height": 50
    },
    "colab_type": "code",
    "executionInfo": {
     "elapsed": 720,
     "status": "ok",
     "timestamp": 1583307012078,
     "user": {
      "displayName": "Joanne Ramadani",
      "photoUrl": "https://lh3.googleusercontent.com/a-/AOh14Gjan1C8Yf9hMbGeCWCCfHwSnQ_Lgc0AlJjEXUAeFA=s64",
      "userId": "06250817169622983021"
     },
     "user_tz": 300
    },
    "id": "PfJEI1aKRu3P",
    "outputId": "999e4758-83c6-4a95-aec6-ee6be6d405fe"
   },
   "outputs": [
    {
     "data": {
      "text/plain": [
       "array(['BRONX', 'QUEENS', 'MANHATTAN', 'BROOKLYN', 'STATEN ISLAND',\n",
       "       'NEW YORK'], dtype=object)"
      ]
     },
     "execution_count": 7,
     "metadata": {
      "tags": []
     },
     "output_type": "execute_result"
    }
   ],
   "source": [
    "df['BORO'].unique()"
   ]
  },
  {
   "cell_type": "code",
   "execution_count": 8,
   "metadata": {
    "colab": {
     "base_uri": "https://localhost:8080/",
     "height": 33
    },
    "colab_type": "code",
    "executionInfo": {
     "elapsed": 468,
     "status": "ok",
     "timestamp": 1583307012359,
     "user": {
      "displayName": "Joanne Ramadani",
      "photoUrl": "https://lh3.googleusercontent.com/a-/AOh14Gjan1C8Yf9hMbGeCWCCfHwSnQ_Lgc0AlJjEXUAeFA=s64",
      "userId": "06250817169622983021"
     },
     "user_tz": 300
    },
    "id": "1rw3u7ASKLoq",
    "outputId": "53c8c1cb-dc5e-4436-f202-e61a46be36e7"
   },
   "outputs": [
    {
     "data": {
      "text/plain": [
       "array(['F', 'M', 'U', 'D'], dtype=object)"
      ]
     },
     "execution_count": 8,
     "metadata": {
      "tags": []
     },
     "output_type": "execute_result"
    }
   ],
   "source": [
    "df['SEX'].unique()"
   ]
  },
  {
   "cell_type": "code",
   "execution_count": 9,
   "metadata": {
    "colab": {
     "base_uri": "https://localhost:8080/",
     "height": 66
    },
    "colab_type": "code",
    "executionInfo": {
     "elapsed": 531,
     "status": "ok",
     "timestamp": 1583307012864,
     "user": {
      "displayName": "Joanne Ramadani",
      "photoUrl": "https://lh3.googleusercontent.com/a-/AOh14Gjan1C8Yf9hMbGeCWCCfHwSnQ_Lgc0AlJjEXUAeFA=s64",
      "userId": "06250817169622983021"
     },
     "user_tz": 300
    },
    "id": "_Ai93pGnK4mJ",
    "outputId": "1fc952c1-0df7-4fb7-df06-f96450425a8b"
   },
   "outputs": [
    {
     "data": {
      "text/plain": [
       "array(['WHITE HISPANIC', 'BLACK', 'UNKNOWN', 'WHITE', 'BLACK HISPANIC',\n",
       "       'ASIAN / PACIFIC ISLANDER', 'AMERICAN INDIAN/ALASKAN NATIVE',\n",
       "       'HISPANIC', 'OTHER'], dtype=object)"
      ]
     },
     "execution_count": 9,
     "metadata": {
      "tags": []
     },
     "output_type": "execute_result"
    }
   ],
   "source": [
    "df['RACE'].unique()"
   ]
  },
  {
   "cell_type": "code",
   "execution_count": 0,
   "metadata": {
    "colab": {},
    "colab_type": "code",
    "id": "kBmw4Gq6K4q_"
   },
   "outputs": [],
   "source": [
    "#cols = ['LAW_DESCRIPTION', 'SUMMONS_CATEGORY_TYPE']\n",
    "cols = ['X_COORDINATE_CD', 'Y_COORDINATE_CD']"
   ]
  },
  {
   "cell_type": "code",
   "execution_count": 11,
   "metadata": {
    "colab": {
     "base_uri": "https://localhost:8080/",
     "height": 147
    },
    "colab_type": "code",
    "executionInfo": {
     "elapsed": 738,
     "status": "ok",
     "timestamp": 1583307014556,
     "user": {
      "displayName": "Joanne Ramadani",
      "photoUrl": "https://lh3.googleusercontent.com/a-/AOh14Gjan1C8Yf9hMbGeCWCCfHwSnQ_Lgc0AlJjEXUAeFA=s64",
      "userId": "06250817169622983021"
     },
     "user_tz": 300
    },
    "id": "ilZv6kDXS3Lh",
    "outputId": "b123cafb-2a74-465a-942b-f4e1f09e202f"
   },
   "outputs": [
    {
     "data": {
      "text/plain": [
       "array(['Administrative Code', 'Penal Law', 'Traffic Regs', 'ABC', 'VTL',\n",
       "       'General Business Law', 'Health Code', 'Transit Regs', 'Park Regs',\n",
       "       'NYS Transportation', 'Tax Law', 'Sanitary Code (NYS)',\n",
       "       'Navigation Law', 'Agriculture & Markets Law',\n",
       "       'Environmental Conservation Law', 'TLC', 'ACA',\n",
       "       'Multiple Dwelling', 'Education Law (NYS)', 'NYS Workers Comp',\n",
       "       'Other', 'DOG: UNLICENSED', 'OTHER PARK REGS', 'BICYCLE NO BELL',\n",
       "       nan], dtype=object)"
      ]
     },
     "execution_count": 11,
     "metadata": {
      "tags": []
     },
     "output_type": "execute_result"
    }
   ],
   "source": [
    "df['LAW_DESCRIPTION'].unique()"
   ]
  },
  {
   "cell_type": "code",
   "execution_count": 12,
   "metadata": {
    "colab": {
     "base_uri": "https://localhost:8080/",
     "height": 293
    },
    "colab_type": "code",
    "executionInfo": {
     "elapsed": 812,
     "status": "ok",
     "timestamp": 1583307015015,
     "user": {
      "displayName": "Joanne Ramadani",
      "photoUrl": "https://lh3.googleusercontent.com/a-/AOh14Gjan1C8Yf9hMbGeCWCCfHwSnQ_Lgc0AlJjEXUAeFA=s64",
      "userId": "06250817169622983021"
     },
     "user_tz": 300
    },
    "id": "McJr7924TBcU",
    "outputId": "bedb70aa-d01a-47fe-cb10-36bb884b69fc"
   },
   "outputs": [
    {
     "data": {
      "text/plain": [
       "array(['AMMO', 'MARIJUANA', 'KEY', 'DISORDERLY CONDUCT', 'ALCOHOL',\n",
       "       'TRESPASS', 'TRAFFIC REGS', 'NOISE', 'FIREWORKS',\n",
       "       'OTHER PENAL LAW', 'OTHER ABC', 'VTL', 'KNIFE', 'OTHER ADMIN CODE',\n",
       "       'BUSINESS', 'URINATING', 'TLC', 'EXPOSURE', 'ABC', 'SPITTING',\n",
       "       'OTHER HEALTH CODE', 'OTHER TRAFFIC REG', 'OTHER TRANSIT REG',\n",
       "       'LITTERING', 'OTHER GENERAL BUSINESS LAW', 'AIR GUN', 'GAMBLING',\n",
       "       'PARK REGS', 'POSTING ADVERTISEMENTS', 'VENDING', 'NYS TRANS',\n",
       "       'TOW TRUCK', 'BIKE', 'LITTERNG', 'SMOKING', 'TRANSIT REGS',\n",
       "       'PANHANDLING', 'DOG', 'OTHER SANITARY CODE', 'NAVIGATION LAW',\n",
       "       'LOITERING', 'SANITARY CODE', 'OTHER AGRICULTURE&MARKETS LAW',\n",
       "       'FOOD', 'OTHER PARK REG', 'OPEN HYDRANT', 'HARASSMENT 2',\n",
       "       'OTHER ENVIRON CONSERVATION LAW', 'OTHER TLC', 'MACE', 'OPEN FIRE',\n",
       "       nan, 'SCALPING', 'DUMPING', 'OTHER TAX LAW', 'AVIGATION', 'OTHER',\n",
       "       'IN PUBLIC UNDER DRUGS', 'OTHER ACA', 'OTHER MULTIPLE DWELLING',\n",
       "       'EDUCATION LAW', 'GRAFFITI', 'OTHER EDUCATION LAW', 'HAZING 2',\n",
       "       'OTHER NYS WORK COMP', 'OTHER BUSINESS LAW', 'OTHER VTL',\n",
       "       'ADMIN UNCLASS'], dtype=object)"
      ]
     },
     "execution_count": 12,
     "metadata": {
      "tags": []
     },
     "output_type": "execute_result"
    }
   ],
   "source": [
    "df['SUMMONS_CATEGORY_TYPE'].unique()"
   ]
  },
  {
   "cell_type": "code",
   "execution_count": 0,
   "metadata": {
    "colab": {},
    "colab_type": "code",
    "id": "NZiYuEb7K4zz"
   },
   "outputs": [],
   "source": [
    "df = df.drop(df[df.OFFENSE_DESCRIPTION == 'OTHER ABC'].index)"
   ]
  },
  {
   "cell_type": "code",
   "execution_count": 0,
   "metadata": {
    "colab": {},
    "colab_type": "code",
    "id": "jVYWs7GgSiqI"
   },
   "outputs": [],
   "source": [
    "df = df.drop(cols, axis=1)"
   ]
  },
  {
   "cell_type": "code",
   "execution_count": 0,
   "metadata": {
    "colab": {},
    "colab_type": "code",
    "id": "YvWJ4dQkALYb"
   },
   "outputs": [],
   "source": [
    "#curiosities about certain offense descriptions--considering a categorical version\n",
    "#vn = df[df['OFFENSE_DESCRIPTION'] == 'NO PREGNANCY WARNING SIGN']\n",
    "#vn = df[df['LAW_DESCRIPTION'] == 'ABC']\n",
    "#bd = df[df['OFFENSE_DESCRIPTION'] == 'IN A PUBLIC PLACE AND USES ABUSIVE/OBSCENE LANGUAGE OR MAKES AN OBSCENE GESTURE']\n",
    "#ad = df[df['OFFENSE_DESCRIPTION'] == 'SERIOUSLY ANNOY WITHOUT A LEGITIMATE PURPOSE'] #I thought this one was bizarrely worded--I looked it up and it's apparently harassment in the sixth degree?\n",
    "#vn"
   ]
  },
  {
   "cell_type": "code",
   "execution_count": 16,
   "metadata": {
    "colab": {
     "base_uri": "https://localhost:8080/",
     "height": 488
    },
    "colab_type": "code",
    "executionInfo": {
     "elapsed": 828,
     "status": "ok",
     "timestamp": 1583307020299,
     "user": {
      "displayName": "Joanne Ramadani",
      "photoUrl": "https://lh3.googleusercontent.com/a-/AOh14Gjan1C8Yf9hMbGeCWCCfHwSnQ_Lgc0AlJjEXUAeFA=s64",
      "userId": "06250817169622983021"
     },
     "user_tz": 300
    },
    "id": "iDIz3NghXKU_",
    "outputId": "8af77a83-391c-433c-9053-0137c38f4e1d"
   },
   "outputs": [
    {
     "data": {
      "text/html": [
       "<div>\n",
       "<style scoped>\n",
       "    .dataframe tbody tr th:only-of-type {\n",
       "        vertical-align: middle;\n",
       "    }\n",
       "\n",
       "    .dataframe tbody tr th {\n",
       "        vertical-align: top;\n",
       "    }\n",
       "\n",
       "    .dataframe thead th {\n",
       "        text-align: right;\n",
       "    }\n",
       "</style>\n",
       "<table border=\"1\" class=\"dataframe\">\n",
       "  <thead>\n",
       "    <tr style=\"text-align: right;\">\n",
       "      <th></th>\n",
       "      <th>SUMMONS_KEY</th>\n",
       "      <th>SUMMONS_DATE</th>\n",
       "      <th>OFFENSE_DESCRIPTION</th>\n",
       "      <th>LAW_SECTION_NUMBER</th>\n",
       "      <th>LAW_DESCRIPTION</th>\n",
       "      <th>SUMMONS_CATEGORY_TYPE</th>\n",
       "      <th>AGE_GROUP</th>\n",
       "      <th>SEX</th>\n",
       "      <th>RACE</th>\n",
       "      <th>JURISDICTION_CODE</th>\n",
       "      <th>BORO</th>\n",
       "      <th>PRECINCT_OF_OCCUR</th>\n",
       "      <th>Latitude</th>\n",
       "      <th>Longitude</th>\n",
       "    </tr>\n",
       "  </thead>\n",
       "  <tbody>\n",
       "    <tr>\n",
       "      <th>0</th>\n",
       "      <td>173135642</td>\n",
       "      <td>2017-12-31</td>\n",
       "      <td>RIFLE, SHOTGUN, AMMO SALE OR PURCHASE</td>\n",
       "      <td>10-306</td>\n",
       "      <td>Administrative Code</td>\n",
       "      <td>AMMO</td>\n",
       "      <td>25-44</td>\n",
       "      <td>F</td>\n",
       "      <td>WHITE HISPANIC</td>\n",
       "      <td>2</td>\n",
       "      <td>BRONX</td>\n",
       "      <td>43</td>\n",
       "      <td>40.823349</td>\n",
       "      <td>-73.865257</td>\n",
       "    </tr>\n",
       "    <tr>\n",
       "      <th>1</th>\n",
       "      <td>173138632</td>\n",
       "      <td>2017-12-31</td>\n",
       "      <td>MARIJUANA, POSSESSION OF</td>\n",
       "      <td>221.05</td>\n",
       "      <td>Penal Law</td>\n",
       "      <td>MARIJUANA</td>\n",
       "      <td>25-44</td>\n",
       "      <td>F</td>\n",
       "      <td>BLACK</td>\n",
       "      <td>0</td>\n",
       "      <td>BRONX</td>\n",
       "      <td>44</td>\n",
       "      <td>40.833942</td>\n",
       "      <td>-73.920138</td>\n",
       "    </tr>\n",
       "    <tr>\n",
       "      <th>2</th>\n",
       "      <td>173193579</td>\n",
       "      <td>2017-12-31</td>\n",
       "      <td>KEY IN IGNITION</td>\n",
       "      <td>10-111</td>\n",
       "      <td>Administrative Code</td>\n",
       "      <td>KEY</td>\n",
       "      <td>25-44</td>\n",
       "      <td>M</td>\n",
       "      <td>WHITE HISPANIC</td>\n",
       "      <td>0</td>\n",
       "      <td>QUEENS</td>\n",
       "      <td>113</td>\n",
       "      <td>40.687761</td>\n",
       "      <td>-73.790386</td>\n",
       "    </tr>\n",
       "    <tr>\n",
       "      <th>3</th>\n",
       "      <td>173135647</td>\n",
       "      <td>2017-12-31</td>\n",
       "      <td>DISORDERLY CONDUCT</td>\n",
       "      <td>240.20</td>\n",
       "      <td>Penal Law</td>\n",
       "      <td>DISORDERLY CONDUCT</td>\n",
       "      <td>18-24</td>\n",
       "      <td>M</td>\n",
       "      <td>WHITE HISPANIC</td>\n",
       "      <td>0</td>\n",
       "      <td>QUEENS</td>\n",
       "      <td>114</td>\n",
       "      <td>40.757833</td>\n",
       "      <td>-73.919934</td>\n",
       "    </tr>\n",
       "    <tr>\n",
       "      <th>4</th>\n",
       "      <td>173135644</td>\n",
       "      <td>2017-12-31</td>\n",
       "      <td>CONSUMPTION OF ALCOHOL</td>\n",
       "      <td>10-125</td>\n",
       "      <td>Administrative Code</td>\n",
       "      <td>ALCOHOL</td>\n",
       "      <td>25-44</td>\n",
       "      <td>M</td>\n",
       "      <td>WHITE HISPANIC</td>\n",
       "      <td>2</td>\n",
       "      <td>BRONX</td>\n",
       "      <td>40</td>\n",
       "      <td>40.812642</td>\n",
       "      <td>-73.915096</td>\n",
       "    </tr>\n",
       "    <tr>\n",
       "      <th>...</th>\n",
       "      <td>...</td>\n",
       "      <td>...</td>\n",
       "      <td>...</td>\n",
       "      <td>...</td>\n",
       "      <td>...</td>\n",
       "      <td>...</td>\n",
       "      <td>...</td>\n",
       "      <td>...</td>\n",
       "      <td>...</td>\n",
       "      <td>...</td>\n",
       "      <td>...</td>\n",
       "      <td>...</td>\n",
       "      <td>...</td>\n",
       "      <td>...</td>\n",
       "    </tr>\n",
       "    <tr>\n",
       "      <th>5262302</th>\n",
       "      <td>191821367</td>\n",
       "      <td>2019-01-01</td>\n",
       "      <td>DISCON: REFUSE LAWFUL ORDER</td>\n",
       "      <td>240.20-6</td>\n",
       "      <td>Penal Law</td>\n",
       "      <td>DISORDERLY CONDUCT</td>\n",
       "      <td>25-44</td>\n",
       "      <td>M</td>\n",
       "      <td>WHITE HISPANIC</td>\n",
       "      <td>0</td>\n",
       "      <td>BRONX</td>\n",
       "      <td>43</td>\n",
       "      <td>40.832550</td>\n",
       "      <td>-73.864118</td>\n",
       "    </tr>\n",
       "    <tr>\n",
       "      <th>5262303</th>\n",
       "      <td>191883272</td>\n",
       "      <td>2019-01-01</td>\n",
       "      <td>MARIJUANA, POSSESSION OF</td>\n",
       "      <td>221.05</td>\n",
       "      <td>Penal Law</td>\n",
       "      <td>MARIJUANA</td>\n",
       "      <td>25-44</td>\n",
       "      <td>F</td>\n",
       "      <td>BLACK</td>\n",
       "      <td>0</td>\n",
       "      <td>BRONX</td>\n",
       "      <td>41</td>\n",
       "      <td>40.818106</td>\n",
       "      <td>-73.885510</td>\n",
       "    </tr>\n",
       "    <tr>\n",
       "      <th>5262304</th>\n",
       "      <td>191706620</td>\n",
       "      <td>2019-01-01</td>\n",
       "      <td>POLICE MACE; UNLAWFUL POSSESSION</td>\n",
       "      <td>10-131(E)</td>\n",
       "      <td>NaN</td>\n",
       "      <td>NaN</td>\n",
       "      <td>25-44</td>\n",
       "      <td>M</td>\n",
       "      <td>BLACK</td>\n",
       "      <td>0</td>\n",
       "      <td>BRONX</td>\n",
       "      <td>47</td>\n",
       "      <td>40.906668</td>\n",
       "      <td>-73.848765</td>\n",
       "    </tr>\n",
       "    <tr>\n",
       "      <th>5262305</th>\n",
       "      <td>191707008</td>\n",
       "      <td>2019-01-01</td>\n",
       "      <td>OVER CROWDED BAR</td>\n",
       "      <td>15-227(A)</td>\n",
       "      <td>NaN</td>\n",
       "      <td>NaN</td>\n",
       "      <td>45-64</td>\n",
       "      <td>M</td>\n",
       "      <td>BLACK</td>\n",
       "      <td>0</td>\n",
       "      <td>BROOKLYN</td>\n",
       "      <td>67</td>\n",
       "      <td>40.656655</td>\n",
       "      <td>-73.930402</td>\n",
       "    </tr>\n",
       "    <tr>\n",
       "      <th>5262306</th>\n",
       "      <td>191709415</td>\n",
       "      <td>2019-01-01</td>\n",
       "      <td>CONGREGATES WITH OTHER PERSONS IN PUBLIC AND R...</td>\n",
       "      <td>240.20(6)</td>\n",
       "      <td>NaN</td>\n",
       "      <td>NaN</td>\n",
       "      <td>18-24</td>\n",
       "      <td>M</td>\n",
       "      <td>WHITE HISPANIC</td>\n",
       "      <td>0</td>\n",
       "      <td>BRONX</td>\n",
       "      <td>45</td>\n",
       "      <td>40.882343</td>\n",
       "      <td>-73.827581</td>\n",
       "    </tr>\n",
       "  </tbody>\n",
       "</table>\n",
       "<p>4258141 rows × 14 columns</p>\n",
       "</div>"
      ],
      "text/plain": [
       "        SUMMONS_KEY SUMMONS_DATE  ...   Latitude  Longitude\n",
       "0         173135642   2017-12-31  ...  40.823349 -73.865257\n",
       "1         173138632   2017-12-31  ...  40.833942 -73.920138\n",
       "2         173193579   2017-12-31  ...  40.687761 -73.790386\n",
       "3         173135647   2017-12-31  ...  40.757833 -73.919934\n",
       "4         173135644   2017-12-31  ...  40.812642 -73.915096\n",
       "...             ...          ...  ...        ...        ...\n",
       "5262302   191821367   2019-01-01  ...  40.832550 -73.864118\n",
       "5262303   191883272   2019-01-01  ...  40.818106 -73.885510\n",
       "5262304   191706620   2019-01-01  ...  40.906668 -73.848765\n",
       "5262305   191707008   2019-01-01  ...  40.656655 -73.930402\n",
       "5262306   191709415   2019-01-01  ...  40.882343 -73.827581\n",
       "\n",
       "[4258141 rows x 14 columns]"
      ]
     },
     "execution_count": 16,
     "metadata": {
      "tags": []
     },
     "output_type": "execute_result"
    }
   ],
   "source": [
    "df"
   ]
  },
  {
   "cell_type": "code",
   "execution_count": 0,
   "metadata": {
    "colab": {},
    "colab_type": "code",
    "id": "k1qo3aRKEa9d"
   },
   "outputs": [],
   "source": [
    "#bootstrapping--four million values might be too much to visualize?\n",
    "dfsamp = df.sample(n=10000, replace=True)"
   ]
  },
  {
   "cell_type": "code",
   "execution_count": 0,
   "metadata": {
    "colab": {},
    "colab_type": "code",
    "id": "tGl14j8tYetA"
   },
   "outputs": [],
   "source": [
    "countdf = df\n",
    "countdf['count'] = 1\n",
    "age = df.groupby('AGE_GROUP')\n",
    "agedf = age.sum()"
   ]
  },
  {
   "cell_type": "code",
   "execution_count": 45,
   "metadata": {
    "colab": {
     "base_uri": "https://localhost:8080/",
     "height": 147
    },
    "colab_type": "code",
    "executionInfo": {
     "elapsed": 414,
     "status": "ok",
     "timestamp": 1583310156245,
     "user": {
      "displayName": "Joanne Ramadani",
      "photoUrl": "https://lh3.googleusercontent.com/a-/AOh14Gjan1C8Yf9hMbGeCWCCfHwSnQ_Lgc0AlJjEXUAeFA=s64",
      "userId": "06250817169622983021"
     },
     "user_tz": 300
    },
    "id": "nVvI1N4SYe7H",
    "outputId": "7ae52154-cd68-49b5-9f6a-4ef89e7100b0"
   },
   "outputs": [
    {
     "data": {
      "text/plain": [
       "AGE_GROUP\n",
       "18-24      1092763\n",
       "25-44      1982217\n",
       "45-64       910070\n",
       "65+          59127\n",
       "<18         182422\n",
       "UNKNOWN      31542\n",
       "Name: count, dtype: int64"
      ]
     },
     "execution_count": 45,
     "metadata": {
      "tags": []
     },
     "output_type": "execute_result"
    }
   ],
   "source": [
    "agedf['count']"
   ]
  },
  {
   "cell_type": "code",
   "execution_count": 0,
   "metadata": {
    "colab": {},
    "colab_type": "code",
    "id": "XfibllWUYe_D"
   },
   "outputs": [],
   "source": [
    "cboro = df.groupby('BORO')\n",
    "borodf = cboro.sum()"
   ]
  },
  {
   "cell_type": "code",
   "execution_count": 44,
   "metadata": {
    "colab": {
     "base_uri": "https://localhost:8080/",
     "height": 147
    },
    "colab_type": "code",
    "executionInfo": {
     "elapsed": 358,
     "status": "ok",
     "timestamp": 1583310149537,
     "user": {
      "displayName": "Joanne Ramadani",
      "photoUrl": "https://lh3.googleusercontent.com/a-/AOh14Gjan1C8Yf9hMbGeCWCCfHwSnQ_Lgc0AlJjEXUAeFA=s64",
      "userId": "06250817169622983021"
     },
     "user_tz": 300
    },
    "id": "cmPZHXQmYfB9",
    "outputId": "1df3eec5-d078-4704-82f9-9710abd809e3"
   },
   "outputs": [
    {
     "data": {
      "text/plain": [
       "BORO\n",
       "BRONX             935493\n",
       "BROOKLYN         1266703\n",
       "MANHATTAN        1121421\n",
       "NEW YORK           23748\n",
       "QUEENS            784213\n",
       "STATEN ISLAND     126563\n",
       "Name: count, dtype: int64"
      ]
     },
     "execution_count": 44,
     "metadata": {
      "tags": []
     },
     "output_type": "execute_result"
    }
   ],
   "source": [
    "borodf['count']"
   ]
  },
  {
   "cell_type": "code",
   "execution_count": 0,
   "metadata": {
    "colab": {},
    "colab_type": "code",
    "id": "iPmg8zhJYfE5"
   },
   "outputs": [],
   "source": [
    "crace = df.groupby('RACE')\n",
    "racedf = crace.sum()"
   ]
  },
  {
   "cell_type": "code",
   "execution_count": 33,
   "metadata": {
    "colab": {
     "base_uri": "https://localhost:8080/",
     "height": 196
    },
    "colab_type": "code",
    "executionInfo": {
     "elapsed": 238,
     "status": "ok",
     "timestamp": 1583307502094,
     "user": {
      "displayName": "Joanne Ramadani",
      "photoUrl": "https://lh3.googleusercontent.com/a-/AOh14Gjan1C8Yf9hMbGeCWCCfHwSnQ_Lgc0AlJjEXUAeFA=s64",
      "userId": "06250817169622983021"
     },
     "user_tz": 300
    },
    "id": "rpeHYYj8YfMM",
    "outputId": "c7767117-fe91-4ce5-c057-7780c7bdb2bd"
   },
   "outputs": [
    {
     "data": {
      "text/plain": [
       "RACE\n",
       "AMERICAN INDIAN/ALASKAN NATIVE       2124\n",
       "ASIAN / PACIFIC ISLANDER            21414\n",
       "BLACK                              146972\n",
       "BLACK HISPANIC                      28307\n",
       "HISPANIC                                5\n",
       "OTHER                                 571\n",
       "UNKNOWN                           3922569\n",
       "WHITE                               47328\n",
       "WHITE HISPANIC                      88851\n",
       "Name: count, dtype: int64"
      ]
     },
     "execution_count": 33,
     "metadata": {
      "tags": []
     },
     "output_type": "execute_result"
    }
   ],
   "source": [
    "racedf['count']"
   ]
  },
  {
   "cell_type": "code",
   "execution_count": 25,
   "metadata": {
    "colab": {
     "base_uri": "https://localhost:8080/",
     "height": 33
    },
    "colab_type": "code",
    "executionInfo": {
     "elapsed": 320,
     "status": "ok",
     "timestamp": 1583307270246,
     "user": {
      "displayName": "Joanne Ramadani",
      "photoUrl": "https://lh3.googleusercontent.com/a-/AOh14Gjan1C8Yf9hMbGeCWCCfHwSnQ_Lgc0AlJjEXUAeFA=s64",
      "userId": "06250817169622983021"
     },
     "user_tz": 300
    },
    "id": "yVLmZbNbTsH9",
    "outputId": "e4cd9be4-c73b-4d7d-ce42-d68f578915cc"
   },
   "outputs": [
    {
     "data": {
      "text/plain": [
       "Index(['18-24', '25-44', '45-64', '65+', '<18', 'UNKNOWN'], dtype='object', name='AGE_GROUP')"
      ]
     },
     "execution_count": 25,
     "metadata": {
      "tags": []
     },
     "output_type": "execute_result"
    }
   ],
   "source": [
    "from matplotlib import pyplot as plt\n",
    "\n",
    "X = agedf[['count']]\n",
    "X.index"
   ]
  },
  {
   "cell_type": "code",
   "execution_count": 40,
   "metadata": {
    "colab": {
     "base_uri": "https://localhost:8080/",
     "height": 350
    },
    "colab_type": "code",
    "executionInfo": {
     "elapsed": 589,
     "status": "ok",
     "timestamp": 1583308929802,
     "user": {
      "displayName": "Joanne Ramadani",
      "photoUrl": "https://lh3.googleusercontent.com/a-/AOh14Gjan1C8Yf9hMbGeCWCCfHwSnQ_Lgc0AlJjEXUAeFA=s64",
      "userId": "06250817169622983021"
     },
     "user_tz": 300
    },
    "id": "zs6guKuRa7g3",
    "outputId": "aead83f1-8d51-479e-a8fe-63ca0f6f4cab"
   },
   "outputs": [
    {
     "data": {
      "image/png": "[encoded data removed]",
      "text/plain": [
       "<Figure size 432x288 with 1 Axes>"
      ]
     },
     "metadata": {
      "tags": []
     },
     "output_type": "display_data"
    }
   ],
   "source": [
    "fig = plt.figure()\n",
    "ax = fig.add_axes([0,0,1,1])\n",
    "ax.bar(X.index, X['count'])\n",
    "plt.xlabel('Age Groups')\n",
    "plt.ylabel('Summons Issued')\n",
    "plt.show()"
   ]
  },
  {
   "cell_type": "code",
   "execution_count": 0,
   "metadata": {
    "colab": {},
    "colab_type": "code",
    "id": "p3bgLuFrded_"
   },
   "outputs": [],
   "source": [
    "Y = borodf[['count']]"
   ]
  },
  {
   "cell_type": "code",
   "execution_count": 41,
   "metadata": {
    "colab": {
     "base_uri": "https://localhost:8080/",
     "height": 350
    },
    "colab_type": "code",
    "executionInfo": {
     "elapsed": 517,
     "status": "ok",
     "timestamp": 1583308941819,
     "user": {
      "displayName": "Joanne Ramadani",
      "photoUrl": "https://lh3.googleusercontent.com/a-/AOh14Gjan1C8Yf9hMbGeCWCCfHwSnQ_Lgc0AlJjEXUAeFA=s64",
      "userId": "06250817169622983021"
     },
     "user_tz": 300
    },
    "id": "cBH6UZLifPag",
    "outputId": "4c9fc863-1e28-4e58-abcf-5e48d49bbd62"
   },
   "outputs": [
    {
     "data": {
      "image/png": "[encoded data removed]",
      "text/plain": [
       "<Figure size 432x288 with 1 Axes>"
      ]
     },
     "metadata": {
      "tags": []
     },
     "output_type": "display_data"
    }
   ],
   "source": [
    "fig = plt.figure()\n",
    "ax = fig.add_axes([0,0,1,1])\n",
    "ax.bar(Y.index, Y['count'])\n",
    "plt.xlabel('Borough')\n",
    "plt.ylabel('Summons Issued')\n",
    "plt.show()"
   ]
  },
  {
   "cell_type": "code",
   "execution_count": 0,
   "metadata": {
    "colab": {},
    "colab_type": "code",
    "id": "6O8J0ZOxflkn"
   },
   "outputs": [],
   "source": []
  }
 ],
 "metadata": {
  "colab": {
   "authorship_tag": "ABX9TyM4FlpI3+jwvv/WF8PKpILp",
   "mount_file_id": "1wec2H-vSF0hiL81edIk_T-UPy9cMUUpn",
   "name": "Ramadani Assignment 2.ipynb",
   "provenance": []
  },
  "kernelspec": {
   "display_name": "Python 3",
   "language": "python",
   "name": "python3"
  },
  "language_info": {
   "codemirror_mode": {
    "name": "ipython",
    "version": 3
   },
   "file_extension": ".py",
   "mimetype": "text/x-python",
   "name": "python",
   "nbconvert_exporter": "python",
   "pygments_lexer": "ipython3",
   "version": "3.7.4"
  }
 },
 "nbformat": 4,
 "nbformat_minor": 1
}
