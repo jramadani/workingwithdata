{
 "cells": [
  {
   "cell_type": "markdown",
   "metadata": {},
   "source": [
    "Here is the code for my enhanced boxplot--I picked this one to explain because it'll probably be one of the more controversial charts in my report, next to the chaotic final line graph. This dataset was a tough one to visualize, mainly because it doesn't have any real quantitative statistics. Everything is demographic and categorical, so I relied mainly on number of records. Still, the number of summons can tell a really interesting story.\n",
    "\n",
    "`f, ax = plt.subplots(figsize=(12, 10))\n",
    "ax = sns.boxenplot(x=\"YEAR\", y=\"SUMMONS_ISSUED\", hue=\"SUMMONS_CATEGORY_TYPE\",\n",
    "                   data=updf1, palette=\"Set3\")\n",
    "plt.xlabel('Year')\n",
    "plt.ylabel('Summons Issued')\n",
    "plt.show()`"
   ]
  },
  {
   "cell_type": "markdown",
   "metadata": {},
   "source": [
    "Because there's so much categorical data, I thought it would be interesting to see the distribution of the top 10 summons category types over the most recent years. This, as opposed to a bar chart, actually shows likelihood of a large number of summons being issued, which leaves the viewer with a more nuanced takeaway."
   ]
  },
  {
   "attachments": {},
   "cell_type": "markdown",
   "metadata": {},
   "source": [
    "Here is the text that accompanies the visualization:\n",
    "\n",
    "Over a period of four years, most summons issuances in the top ten summons categories severely decreased; the single area in which it increased or stayed in relatively the same position was summonses for marijuana use and possession. Additionally, TLC offenses also went up in 2016, following certain policy implemenatations. In the next few parts of this section, we'll take a look at demographic data for a select number of these summons categories."
   ]
  },
  {
   "cell_type": "markdown",
   "metadata": {},
   "source": [
    "![enhanced boxplot](enhancedboxplot.png)"
   ]
  },
  {
   "cell_type": "markdown",
   "metadata": {},
   "source": [
    "With regard to shifting the narrative from text to image, the image is a part of the narrative--fundamental visualization narrative techniques say that you have to let the user walk through the visuals themselves, so I try my best to simply lay out enough context that the user can understand the basics of the graph and draw additional insights with that foundation."
   ]
  },
  {
   "cell_type": "code",
   "execution_count": null,
   "metadata": {},
   "outputs": [],
   "source": []
  }
 ],
 "metadata": {
  "kernelspec": {
   "display_name": "Python 3.7.4 64-bit",
   "language": "python",
   "name": "python37464bit308c2c2b353a4a368a60745666fd9a4a"
  },
  "language_info": {
   "codemirror_mode": {
    "name": "ipython",
    "version": 3
   },
   "file_extension": ".py",
   "mimetype": "text/x-python",
   "name": "python",
   "nbconvert_exporter": "python",
   "pygments_lexer": "ipython3",
   "version": "3.7.4"
  }
 },
 "nbformat": 4,
 "nbformat_minor": 2
}
